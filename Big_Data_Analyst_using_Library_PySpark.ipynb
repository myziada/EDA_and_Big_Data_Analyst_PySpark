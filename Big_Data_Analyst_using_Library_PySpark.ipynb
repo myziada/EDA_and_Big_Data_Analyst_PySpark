{
  "nbformat": 4,
  "nbformat_minor": 0,
  "metadata": {
    "colab": {
      "provenance": []
    },
    "kernelspec": {
      "name": "python3",
      "display_name": "Python 3"
    },
    "language_info": {
      "name": "python"
    }
  },
  "cells": [
    {
      "cell_type": "markdown",
      "source": [
        "Silahkan download data berikut\n",
        "https://drive.google.com/drive/folders/1NhEG9zRplX6QXnwhk9-QJxV1hmzpknGD?usp=sharing\n",
        "\n",
        "dan masukan ke dalam google drive anda"
      ],
      "metadata": {
        "id": "NDdkAXsloDIJ"
      }
    },
    {
      "cell_type": "markdown",
      "source": [
        "**NAMA        : SALWA ZIADA SALSABIILA**\n",
        "\n",
        "**NIM          : 1910511094**\n",
        "\n",
        "*Mata Kuliah  : Big Data Kelas A*"
      ],
      "metadata": {
        "id": "w20MK9skfw4b"
      }
    },
    {
      "cell_type": "markdown",
      "source": [
        "**1. Silahkan install PySpark**"
      ],
      "metadata": {
        "id": "Hwy6zvcnoPkX"
      }
    },
    {
      "cell_type": "code",
      "source": [
        "!pip install pyspark py4j"
      ],
      "metadata": {
        "id": "dPxja1Q8jY3l",
        "colab": {
          "base_uri": "https://localhost:8080/"
        },
        "outputId": "82d31d2f-c9e5-411d-eb8d-6e04346d3a02"
      },
      "execution_count": null,
      "outputs": [
        {
          "output_type": "stream",
          "name": "stdout",
          "text": [
            "Requirement already satisfied: pyspark in /usr/local/lib/python3.7/dist-packages (3.2.1)\n",
            "Requirement already satisfied: py4j in /usr/local/lib/python3.7/dist-packages (0.10.9.3)\n"
          ]
        }
      ]
    },
    {
      "cell_type": "markdown",
      "source": [
        "**2. Silahkan Mengcreate Spark Session**"
      ],
      "metadata": {
        "id": "5eqbGQ06oZBg"
      }
    },
    {
      "cell_type": "code",
      "source": [
        "from pyspark.sql import SparkSession\n",
        "spark = SparkSession.builder.appName(\"mall_pyspark\").getOrCreate()\n",
        "spark"
      ],
      "metadata": {
        "id": "Rf2y4rb8oYp3",
        "colab": {
          "base_uri": "https://localhost:8080/",
          "height": 221
        },
        "outputId": "69029dcf-3bdb-4f93-8eb5-63311936009e"
      },
      "execution_count": null,
      "outputs": [
        {
          "output_type": "execute_result",
          "data": {
            "text/plain": [
              "<pyspark.sql.session.SparkSession at 0x7f09bf0af910>"
            ],
            "text/html": [
              "\n",
              "            <div>\n",
              "                <p><b>SparkSession - in-memory</b></p>\n",
              "                \n",
              "        <div>\n",
              "            <p><b>SparkContext</b></p>\n",
              "\n",
              "            <p><a href=\"http://ea79572c1c30:4040\">Spark UI</a></p>\n",
              "\n",
              "            <dl>\n",
              "              <dt>Version</dt>\n",
              "                <dd><code>v3.2.1</code></dd>\n",
              "              <dt>Master</dt>\n",
              "                <dd><code>local[*]</code></dd>\n",
              "              <dt>AppName</dt>\n",
              "                <dd><code>mall_pyspark</code></dd>\n",
              "            </dl>\n",
              "        </div>\n",
              "        \n",
              "            </div>\n",
              "        "
            ]
          },
          "metadata": {},
          "execution_count": 21
        }
      ]
    },
    {
      "cell_type": "markdown",
      "source": [
        "**3. Masukan data yang telah di download pada google drive**"
      ],
      "metadata": {
        "id": "_Jh8ywhwpCOR"
      }
    },
    {
      "cell_type": "code",
      "source": [
        "df = spark.read.csv(\"/content/drive/MyDrive/dataset/mall.csv\", header=True, inferSchema = True)"
      ],
      "metadata": {
        "id": "Gapyw1XuovZX"
      },
      "execution_count": null,
      "outputs": []
    },
    {
      "cell_type": "code",
      "source": [
        "from google.colab import drive\n",
        "drive.mount('/content/drive')"
      ],
      "metadata": {
        "colab": {
          "base_uri": "https://localhost:8080/"
        },
        "id": "htYVUoZWUtJC",
        "outputId": "4db71807-ebdf-487a-f004-26e3998c607c"
      },
      "execution_count": null,
      "outputs": [
        {
          "output_type": "stream",
          "name": "stdout",
          "text": [
            "Drive already mounted at /content/drive; to attempt to forcibly remount, call drive.mount(\"/content/drive\", force_remount=True).\n"
          ]
        }
      ]
    },
    {
      "cell_type": "markdown",
      "source": [
        "**4. Buat Perintah yang dapat menampilkan tipe data pada setiap kolom**"
      ],
      "metadata": {
        "id": "mX-e1aeepSpt"
      }
    },
    {
      "cell_type": "code",
      "source": [
        "df.printSchema()"
      ],
      "metadata": {
        "id": "GtOSZJkjpbhy",
        "colab": {
          "base_uri": "https://localhost:8080/"
        },
        "outputId": "43545e5b-5784-48dd-b951-7eb99e161a3e"
      },
      "execution_count": null,
      "outputs": [
        {
          "output_type": "stream",
          "name": "stdout",
          "text": [
            "root\n",
            " |-- CustomerID: integer (nullable = true)\n",
            " |-- Gender: string (nullable = true)\n",
            " |-- Age: integer (nullable = true)\n",
            " |-- Annual Income (k$): integer (nullable = true)\n",
            " |-- Spending Score (1-100): integer (nullable = true)\n",
            "\n"
          ]
        }
      ]
    },
    {
      "cell_type": "markdown",
      "source": [
        "**5. Buat perintah yang dapat menampilkan nama kolom, jumlah baris, dan jumlah kolom**"
      ],
      "metadata": {
        "id": "CTMXUWRipb-n"
      }
    },
    {
      "cell_type": "code",
      "source": [
        "df.columns"
      ],
      "metadata": {
        "id": "ZGQpqDVXppsG",
        "colab": {
          "base_uri": "https://localhost:8080/"
        },
        "outputId": "8f09f170-e065-4459-ecdd-9b7385474c6f"
      },
      "execution_count": null,
      "outputs": [
        {
          "output_type": "execute_result",
          "data": {
            "text/plain": [
              "['CustomerID', 'Gender', 'Age', 'Annual Income (k$)', 'Spending Score (1-100)']"
            ]
          },
          "metadata": {},
          "execution_count": 25
        }
      ]
    },
    {
      "cell_type": "code",
      "source": [
        "df.count()"
      ],
      "metadata": {
        "colab": {
          "base_uri": "https://localhost:8080/"
        },
        "id": "6XGgImWZVZTj",
        "outputId": "97abb639-72f6-4447-d6e7-9ce35a1cae91"
      },
      "execution_count": null,
      "outputs": [
        {
          "output_type": "execute_result",
          "data": {
            "text/plain": [
              "200"
            ]
          },
          "metadata": {},
          "execution_count": 26
        }
      ]
    },
    {
      "cell_type": "code",
      "source": [
        "len(df.columns)"
      ],
      "metadata": {
        "colab": {
          "base_uri": "https://localhost:8080/"
        },
        "id": "DbHtAexvVaw4",
        "outputId": "e0b7e90d-c6b0-4f26-bf98-71093f8a7f3c"
      },
      "execution_count": null,
      "outputs": [
        {
          "output_type": "execute_result",
          "data": {
            "text/plain": [
              "5"
            ]
          },
          "metadata": {},
          "execution_count": 27
        }
      ]
    },
    {
      "cell_type": "markdown",
      "source": [
        "**6. Buat perintah yang dapat menampilkan statistik data pada setiap kolom**"
      ],
      "metadata": {
        "id": "lXK4vu7iplVY"
      }
    },
    {
      "cell_type": "code",
      "source": [
        "df.describe().show()"
      ],
      "metadata": {
        "id": "iIsEnLUPp0Cu",
        "colab": {
          "base_uri": "https://localhost:8080/"
        },
        "outputId": "c6a07a9f-ac2f-418c-9841-5ac82591d6fd"
      },
      "execution_count": null,
      "outputs": [
        {
          "output_type": "stream",
          "name": "stdout",
          "text": [
            "+-------+------------------+------+-----------------+------------------+----------------------+\n",
            "|summary|        CustomerID|Gender|              Age|Annual Income (k$)|Spending Score (1-100)|\n",
            "+-------+------------------+------+-----------------+------------------+----------------------+\n",
            "|  count|               200|   200|              200|               200|                   200|\n",
            "|   mean|             100.5|  null|            38.85|             60.56|                  50.2|\n",
            "| stddev|57.879184513951124|  null|13.96900733155888| 26.26472116527124|    25.823521668370173|\n",
            "|    min|                 1|Female|               18|                15|                     1|\n",
            "|    max|               200|  Male|               70|               137|                    99|\n",
            "+-------+------------------+------+-----------------+------------------+----------------------+\n",
            "\n"
          ]
        }
      ]
    },
    {
      "cell_type": "markdown",
      "source": [
        "**7. Buat perintah yang dapat menampilkan 2 kolom**"
      ],
      "metadata": {
        "id": "DdlxMKhpp0od"
      }
    },
    {
      "cell_type": "code",
      "source": [
        "df.select('CustomerID','Gender').show()"
      ],
      "metadata": {
        "id": "2KVe_kEzp_m9",
        "colab": {
          "base_uri": "https://localhost:8080/"
        },
        "outputId": "bd7f2a91-3e9d-4c30-feb5-94a84fa50568"
      },
      "execution_count": null,
      "outputs": [
        {
          "output_type": "stream",
          "name": "stdout",
          "text": [
            "+----------+------+\n",
            "|CustomerID|Gender|\n",
            "+----------+------+\n",
            "|         1|  Male|\n",
            "|         2|  Male|\n",
            "|         3|Female|\n",
            "|         4|Female|\n",
            "|         5|Female|\n",
            "|         6|Female|\n",
            "|         7|Female|\n",
            "|         8|Female|\n",
            "|         9|  Male|\n",
            "|        10|Female|\n",
            "|        11|  Male|\n",
            "|        12|Female|\n",
            "|        13|Female|\n",
            "|        14|Female|\n",
            "|        15|  Male|\n",
            "|        16|  Male|\n",
            "|        17|Female|\n",
            "|        18|  Male|\n",
            "|        19|  Male|\n",
            "|        20|Female|\n",
            "+----------+------+\n",
            "only showing top 20 rows\n",
            "\n"
          ]
        }
      ]
    },
    {
      "cell_type": "markdown",
      "source": [
        "**8. Buat perintah yang dapat membuat kolom baru dengan menambahkan value pada nilai tabel**"
      ],
      "metadata": {
        "id": "LkK0pTbjqACN"
      }
    },
    {
      "cell_type": "code",
      "source": [
        "df.withColumn('New_Age', df.Age+1).show()"
      ],
      "metadata": {
        "id": "PiM4BvSQqMh2",
        "colab": {
          "base_uri": "https://localhost:8080/"
        },
        "outputId": "cee521e8-521c-443d-ee1e-c6a80785d24d"
      },
      "execution_count": null,
      "outputs": [
        {
          "output_type": "stream",
          "name": "stdout",
          "text": [
            "+----------+------+---+------------------+----------------------+-------+\n",
            "|CustomerID|Gender|Age|Annual Income (k$)|Spending Score (1-100)|New_Age|\n",
            "+----------+------+---+------------------+----------------------+-------+\n",
            "|         1|  Male| 19|                15|                    39|     20|\n",
            "|         2|  Male| 21|                15|                    81|     22|\n",
            "|         3|Female| 20|                16|                     6|     21|\n",
            "|         4|Female| 23|                16|                    77|     24|\n",
            "|         5|Female| 31|                17|                    40|     32|\n",
            "|         6|Female| 22|                17|                    76|     23|\n",
            "|         7|Female| 35|                18|                     6|     36|\n",
            "|         8|Female| 23|                18|                    94|     24|\n",
            "|         9|  Male| 64|                19|                     3|     65|\n",
            "|        10|Female| 30|                19|                    72|     31|\n",
            "|        11|  Male| 67|                19|                    14|     68|\n",
            "|        12|Female| 35|                19|                    99|     36|\n",
            "|        13|Female| 58|                20|                    15|     59|\n",
            "|        14|Female| 24|                20|                    77|     25|\n",
            "|        15|  Male| 37|                20|                    13|     38|\n",
            "|        16|  Male| 22|                20|                    79|     23|\n",
            "|        17|Female| 35|                21|                    35|     36|\n",
            "|        18|  Male| 20|                21|                    66|     21|\n",
            "|        19|  Male| 52|                23|                    29|     53|\n",
            "|        20|Female| 35|                23|                    98|     36|\n",
            "+----------+------+---+------------------+----------------------+-------+\n",
            "only showing top 20 rows\n",
            "\n"
          ]
        }
      ]
    },
    {
      "cell_type": "markdown",
      "source": [
        "**9. Buat perintah yang dapat melakukan perubahan pada nama kolom**"
      ],
      "metadata": {
        "id": "WhZ1ydvyqM4G"
      }
    },
    {
      "cell_type": "code",
      "source": [
        "df.withColumnRenamed('Gender','Jenis Kelamin').show()"
      ],
      "metadata": {
        "id": "yMRgTMkhqcTH",
        "colab": {
          "base_uri": "https://localhost:8080/"
        },
        "outputId": "21429e30-cd47-4c06-de00-88e1372b319f"
      },
      "execution_count": null,
      "outputs": [
        {
          "output_type": "stream",
          "name": "stdout",
          "text": [
            "+----------+-------------+---+------------------+----------------------+\n",
            "|CustomerID|Jenis Kelamin|Age|Annual Income (k$)|Spending Score (1-100)|\n",
            "+----------+-------------+---+------------------+----------------------+\n",
            "|         1|         Male| 19|                15|                    39|\n",
            "|         2|         Male| 21|                15|                    81|\n",
            "|         3|       Female| 20|                16|                     6|\n",
            "|         4|       Female| 23|                16|                    77|\n",
            "|         5|       Female| 31|                17|                    40|\n",
            "|         6|       Female| 22|                17|                    76|\n",
            "|         7|       Female| 35|                18|                     6|\n",
            "|         8|       Female| 23|                18|                    94|\n",
            "|         9|         Male| 64|                19|                     3|\n",
            "|        10|       Female| 30|                19|                    72|\n",
            "|        11|         Male| 67|                19|                    14|\n",
            "|        12|       Female| 35|                19|                    99|\n",
            "|        13|       Female| 58|                20|                    15|\n",
            "|        14|       Female| 24|                20|                    77|\n",
            "|        15|         Male| 37|                20|                    13|\n",
            "|        16|         Male| 22|                20|                    79|\n",
            "|        17|       Female| 35|                21|                    35|\n",
            "|        18|         Male| 20|                21|                    66|\n",
            "|        19|         Male| 52|                23|                    29|\n",
            "|        20|       Female| 35|                23|                    98|\n",
            "+----------+-------------+---+------------------+----------------------+\n",
            "only showing top 20 rows\n",
            "\n"
          ]
        }
      ]
    },
    {
      "cell_type": "markdown",
      "source": [
        "**10. Buat Perintah yang dapat melakukan filter data pada salah satu kolom**"
      ],
      "metadata": {
        "id": "zqNPg3KQqi4N"
      }
    },
    {
      "cell_type": "code",
      "source": [
        "df.filter(df['Age']<25).show()"
      ],
      "metadata": {
        "id": "yCcxP2TcqsC1",
        "colab": {
          "base_uri": "https://localhost:8080/"
        },
        "outputId": "c698e680-9de1-4c88-d90d-8289690fda3b"
      },
      "execution_count": null,
      "outputs": [
        {
          "output_type": "stream",
          "name": "stdout",
          "text": [
            "+----------+------+---+------------------+----------------------+\n",
            "|CustomerID|Gender|Age|Annual Income (k$)|Spending Score (1-100)|\n",
            "+----------+------+---+------------------+----------------------+\n",
            "|         1|  Male| 19|                15|                    39|\n",
            "|         2|  Male| 21|                15|                    81|\n",
            "|         3|Female| 20|                16|                     6|\n",
            "|         4|Female| 23|                16|                    77|\n",
            "|         6|Female| 22|                17|                    76|\n",
            "|         8|Female| 23|                18|                    94|\n",
            "|        14|Female| 24|                20|                    77|\n",
            "|        16|  Male| 22|                20|                    79|\n",
            "|        18|  Male| 20|                21|                    66|\n",
            "|        30|Female| 23|                29|                    87|\n",
            "|        32|Female| 21|                30|                    73|\n",
            "|        34|  Male| 18|                33|                    92|\n",
            "|        36|Female| 21|                33|                    81|\n",
            "|        40|Female| 20|                37|                    75|\n",
            "|        42|  Male| 24|                38|                    92|\n",
            "|        46|Female| 24|                39|                    65|\n",
            "|        62|  Male| 19|                46|                    55|\n",
            "|        66|  Male| 18|                48|                    59|\n",
            "|        69|  Male| 19|                48|                    59|\n",
            "|        79|Female| 23|                54|                    52|\n",
            "+----------+------+---+------------------+----------------------+\n",
            "only showing top 20 rows\n",
            "\n"
          ]
        }
      ]
    },
    {
      "cell_type": "markdown",
      "source": [
        "**11. Silahkan lakukan penampahan nilai data jika terdapat data kosong pada dataframe**"
      ],
      "metadata": {
        "id": "nhaDlPl4rBi_"
      }
    },
    {
      "cell_type": "code",
      "source": [
        "df.show()"
      ],
      "metadata": {
        "id": "UY5BTeWNrLwu",
        "colab": {
          "base_uri": "https://localhost:8080/"
        },
        "outputId": "2a55edc8-cb67-4435-9b83-b3b8a4ca16d6"
      },
      "execution_count": null,
      "outputs": [
        {
          "output_type": "stream",
          "name": "stdout",
          "text": [
            "+----------+------+---+------------------+----------------------+\n",
            "|CustomerID|Gender|Age|Annual Income (k$)|Spending Score (1-100)|\n",
            "+----------+------+---+------------------+----------------------+\n",
            "|         1|  Male| 19|                15|                    39|\n",
            "|         2|  Male| 21|                15|                    81|\n",
            "|         3|Female| 20|                16|                     6|\n",
            "|         4|Female| 23|                16|                    77|\n",
            "|         5|Female| 31|                17|                    40|\n",
            "|         6|Female| 22|                17|                    76|\n",
            "|         7|Female| 35|                18|                     6|\n",
            "|         8|Female| 23|                18|                    94|\n",
            "|         9|  Male| 64|                19|                     3|\n",
            "|        10|Female| 30|                19|                    72|\n",
            "|        11|  Male| 67|                19|                    14|\n",
            "|        12|Female| 35|                19|                    99|\n",
            "|        13|Female| 58|                20|                    15|\n",
            "|        14|Female| 24|                20|                    77|\n",
            "|        15|  Male| 37|                20|                    13|\n",
            "|        16|  Male| 22|                20|                    79|\n",
            "|        17|Female| 35|                21|                    35|\n",
            "|        18|  Male| 20|                21|                    66|\n",
            "|        19|  Male| 52|                23|                    29|\n",
            "|        20|Female| 35|                23|                    98|\n",
            "+----------+------+---+------------------+----------------------+\n",
            "only showing top 20 rows\n",
            "\n"
          ]
        }
      ]
    },
    {
      "cell_type": "code",
      "source": [
        "from pyspark.sql.functions import mean\n",
        "mean1 = df.select(mean(df['Age'])).collect()\n",
        "mean1 [0][0]"
      ],
      "metadata": {
        "colab": {
          "base_uri": "https://localhost:8080/"
        },
        "id": "0bnv-87OXZa1",
        "outputId": "5bf192a2-f40d-4a45-d3bc-75690487bfbd"
      },
      "execution_count": null,
      "outputs": [
        {
          "output_type": "execute_result",
          "data": {
            "text/plain": [
              "38.85"
            ]
          },
          "metadata": {},
          "execution_count": 34
        }
      ]
    },
    {
      "cell_type": "code",
      "source": [
        "df.fillna(mean1[0][0]).show()"
      ],
      "metadata": {
        "colab": {
          "base_uri": "https://localhost:8080/"
        },
        "id": "JFuqJmwWYKbj",
        "outputId": "caed06aa-c7b5-4068-e392-3fae86a0b87a"
      },
      "execution_count": null,
      "outputs": [
        {
          "output_type": "stream",
          "name": "stdout",
          "text": [
            "+----------+------+---+------------------+----------------------+\n",
            "|CustomerID|Gender|Age|Annual Income (k$)|Spending Score (1-100)|\n",
            "+----------+------+---+------------------+----------------------+\n",
            "|         1|  Male| 19|                15|                    39|\n",
            "|         2|  Male| 21|                15|                    81|\n",
            "|         3|Female| 20|                16|                     6|\n",
            "|         4|Female| 23|                16|                    77|\n",
            "|         5|Female| 31|                17|                    40|\n",
            "|         6|Female| 22|                17|                    76|\n",
            "|         7|Female| 35|                18|                     6|\n",
            "|         8|Female| 23|                18|                    94|\n",
            "|         9|  Male| 64|                19|                     3|\n",
            "|        10|Female| 30|                19|                    72|\n",
            "|        11|  Male| 67|                19|                    14|\n",
            "|        12|Female| 35|                19|                    99|\n",
            "|        13|Female| 58|                20|                    15|\n",
            "|        14|Female| 24|                20|                    77|\n",
            "|        15|  Male| 37|                20|                    13|\n",
            "|        16|  Male| 22|                20|                    79|\n",
            "|        17|Female| 35|                21|                    35|\n",
            "|        18|  Male| 20|                21|                    66|\n",
            "|        19|  Male| 52|                23|                    29|\n",
            "|        20|Female| 35|                23|                    98|\n",
            "+----------+------+---+------------------+----------------------+\n",
            "only showing top 20 rows\n",
            "\n"
          ]
        }
      ]
    },
    {
      "cell_type": "markdown",
      "source": [
        "**12. Silahkan lakukan visualisasi data untuk salah satu kolom**"
      ],
      "metadata": {
        "id": "HbrL5tYIq1og"
      }
    },
    {
      "cell_type": "code",
      "source": [
        "pip install plotly"
      ],
      "metadata": {
        "colab": {
          "base_uri": "https://localhost:8080/"
        },
        "id": "6PjZpcrKaHLD",
        "outputId": "11d7a7a4-cb2d-49a6-c62a-4c63dc1f5f0a"
      },
      "execution_count": null,
      "outputs": [
        {
          "output_type": "stream",
          "name": "stdout",
          "text": [
            "Requirement already satisfied: plotly in /usr/local/lib/python3.7/dist-packages (5.7.0)\n",
            "Requirement already satisfied: six in /usr/local/lib/python3.7/dist-packages (from plotly) (1.15.0)\n",
            "Requirement already satisfied: tenacity>=6.2.0 in /usr/local/lib/python3.7/dist-packages (from plotly) (8.0.1)\n"
          ]
        }
      ]
    },
    {
      "cell_type": "code",
      "source": [
        "import matplotlib.pyplot as plt\n",
        "import seaborn as sns"
      ],
      "metadata": {
        "id": "NbxlHIUDZUr7"
      },
      "execution_count": null,
      "outputs": []
    },
    {
      "cell_type": "code",
      "source": [
        "plt.figure(1, figsize = (10,12))\n",
        "sns.countplot(y=\"Age\", data=df.toPandas())\n",
        "plt.show()"
      ],
      "metadata": {
        "colab": {
          "base_uri": "https://localhost:8080/",
          "height": 714
        },
        "id": "VtXwAsx2cnw5",
        "outputId": "3f456fe5-968f-483b-c604-24f6692aeada"
      },
      "execution_count": null,
      "outputs": [
        {
          "output_type": "display_data",
          "data": {
            "text/plain": [
              "<Figure size 720x864 with 1 Axes>"
            ],
            "image/png": "[encoded data removed]"
          },
          "metadata": {
            "needs_background": "light"
          }
        }
      ]
    }
  ]
}
